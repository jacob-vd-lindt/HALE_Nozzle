{
 "cells": [
  {
   "cell_type": "code",
   "execution_count": 5,
   "metadata": {
    "scrolled": true
   },
   "outputs": [],
   "source": [
    "#Air Density and Pressure as a Function of Altitude (Values Taken from Rocket Propulsion Elements)\n",
    "# Peter Strohmaier 9/1/19\n",
    "# HALE Rocket Team\n",
    "\n",
    "import numpy as np\n",
    "\n",
    "#Density as a Function of Altitude\n",
    "def air_density(i):\n",
    "    altitude = np.array([0,1000,3000,5000,10000,25000,50000,75000,100000,\\\n",
    "                     130000,160000,200000,300000,400000,600000,1000000])\n",
    "    density = np.array([1.2250,1.1117,9.0912*(10**-1),7.6312*(10**-1),4.1351*(10**-1),\\\n",
    "                   4.0084*(10**-2),1.0269*(10**-3),3.4861*(10**-5),5.604*(10**-7),\\\n",
    "                   8.152*(10**-9),1.233*(10**-9),2.541*(10**-10),1.916*(10**-11),\\\n",
    "                   2.803*(10**-12),2.137*(10**-13),3.561*(10**-15)])\n",
    "    return np.interp(i,altitude,density) #kg/m^3\n",
    "\n",
    "#Ambient Pressure as a Function of Altitude\n",
    "def air_pressure(i):\n",
    "    altitude = np.array([0,1000,3000,5000,10000,25000,50000,75000,100000,\\\n",
    "                     130000,160000,200000,300000,400000,600000,1000000])\n",
    "    pressure_ratio = np.array([1,8.8700*(10**-1),6.6919*(10**-1),5.3313*(10**-1),\\\n",
    "                              2.6151*(10**-1),2.5158*(10**-2),7.8735*(10**-4),2.0408*(10**-5),\\\n",
    "                              3.1593*(10**-7),1.2341*(10**-8),2.9997*(10**-9),8.3628*(10**-10),\\\n",
    "                              8.6557*(10**-11),1.4328*(10**-11),8.1056*(10**-13),7.4155*(10**-14)])\n",
    "    x = np.interp(i,altitude,pressure_ratio)\n",
    "    return x * (101325) #Pascals\n"
   ]
  }
 ],
 "metadata": {
  "kernelspec": {
   "display_name": "Python 3",
   "language": "python",
   "name": "python3"
  },
  "language_info": {
   "codemirror_mode": {
    "name": "ipython",
    "version": 3
   },
   "file_extension": ".py",
   "mimetype": "text/x-python",
   "name": "python",
   "nbconvert_exporter": "python",
   "pygments_lexer": "ipython3",
   "version": "3.6.5"
  }
 },
 "nbformat": 4,
 "nbformat_minor": 2
}
