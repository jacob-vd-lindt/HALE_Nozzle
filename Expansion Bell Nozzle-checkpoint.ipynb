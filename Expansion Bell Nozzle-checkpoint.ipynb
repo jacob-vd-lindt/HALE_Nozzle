{
 "cells": [
  {
   "cell_type": "code",
   "execution_count": 1,
   "metadata": {},
   "outputs": [
    {
     "name": "stdout",
     "output_type": "stream",
     "text": [
      "Stagnation Pressure: 2413166.0 Pa\n",
      "Stagnation Temperature: 3600.0 K\n",
      "Throat Area: 4.072533924341188 in^2\n",
      "Throat Diameter: 2.2771278487925706 in\n",
      "Temperature Ratio: 0.5550850529359047\n",
      "Pressure Ratio: 0.0419884085885513\n",
      "Expansion Ratio: 3.948795549564752\n",
      "Exit Area: 16.081603835889958 in^2\n",
      "Exit Diameter: 4.5250120382845145 in\n",
      "Exit Mach Number: 2.65158959379593\n"
     ]
    }
   ],
   "source": [
    "# Nozzle Calculations for MIRA Expansion Nozzle\n",
    "# Peter Strohmaier 8/26/19\n",
    "# HALE Rocket Team\n",
    "\n",
    "\n",
    "# Gas Dynamics Basic Parameters Calculations\n",
    "\n",
    "\n",
    "import math\n",
    "def metersquare_to_inchsquare(i):\n",
    "    return i * 1550\n",
    "def poundpersec_to_kilogrampersec(i):\n",
    "    return i * 0.453592\n",
    "def psi_to_Pa(i):\n",
    "    return i * 6894.76\n",
    "\n",
    "#Known Values\n",
    "mdotimp = 7.72 #lb/s\n",
    "mdot = poundpersec_to_kilogrampersec(mdotimp)\n",
    "Mai = 0\n",
    "Mat = 1\n",
    "\n",
    "Pcimp = 350  #psi\n",
    "Pc = psi_to_Pa(Pcimp)\n",
    "Pe = 101325 #Pa\n",
    "k = 1.228\n",
    "Ta = 3600  #K\n",
    "Rbar = 8314 #J/K-mol\n",
    "R = 389.4145 #J/kgK\n",
    "\n",
    "#Stagnation Point Computations\n",
    "Pt = Pc*((1+((k-1)/2)*(Mai**2))**(k/(k-1)))    #Equation 4.21 Fundamentals of Gas Dynamics (FGD)\n",
    "Tt = Ta*(1+((k-1)/2)*(Mai**2))                 #Equation 4.18 FGD\n",
    "PresRat = Pe/Pt\n",
    "\n",
    "#Computing Area of Throat\n",
    "rt1 = math.sqrt((2/(k+1))**((k+1)/(k-1)))      #Equation 3-24 Rocket Propulsion Elements (RPE)\n",
    "rt2 = math.sqrt(k*R*Ta)\n",
    "At = mdot/(Pc*k*(rt1/rt2))\n",
    "Atimp = metersquare_to_inchsquare(At)\n",
    "Dt = 2*math.sqrt(Atimp/math.pi)\n",
    "\n",
    "#Exit Condition Calculations\n",
    "Mae = (math.sqrt(2)*math.sqrt(Pt*((Pe/Pt)**(1/k))-Pe))/(math.sqrt((k*Pe)-Pe))    #Equation 5.4 FGD\n",
    "Ae = (At/Mae)*(((1+((k-1)/2)*(Mae**2))/((k+1)/2))**((k+1)/(2*(k-1))))            #Equation 5.37 FGD\n",
    "exp = Ae/At\n",
    "Te = Tt/(1+((k-1)/2)*(Mae**2))\n",
    "TempRat = Te/Tt\n",
    "Aeimp = metersquare_to_inchsquare(Ae)\n",
    "De = 2*math.sqrt(Aeimp/math.pi)\n",
    "\n",
    "\n",
    "print('Stagnation Pressure: ' + str(Pt) + ' Pa')\n",
    "print('Stagnation Temperature: ' + str(Tt) + ' K')\n",
    "print('Throat Area: ' + str(Atimp) + ' in^2')\n",
    "print('Throat Diameter: ' + str(Dt) + ' in')\n",
    "print('Temperature Ratio: ' + str(TempRat))\n",
    "print('Pressure Ratio: ' + str(PresRat))\n",
    "print('Expansion Ratio: ' + str(exp))\n",
    "print('Exit Area: ' + str(Aeimp) + ' in^2')\n",
    "print('Exit Diameter: ' + str(De) + ' in')\n",
    "print('Exit Mach Number: '+ str(Mae))\n"
   ]
  },
  {
   "cell_type": "code",
   "execution_count": null,
   "metadata": {},
   "outputs": [],
   "source": [
    "#Altitude Simulations\n",
    "\n"
   ]
  }
 ],
 "metadata": {
  "kernelspec": {
   "display_name": "Python 3",
   "language": "python",
   "name": "python3"
  },
  "language_info": {
   "codemirror_mode": {
    "name": "ipython",
    "version": 3
   },
   "file_extension": ".py",
   "mimetype": "text/x-python",
   "name": "python",
   "nbconvert_exporter": "python",
   "pygments_lexer": "ipython3",
   "version": "3.6.5"
  }
 },
 "nbformat": 4,
 "nbformat_minor": 2
}
