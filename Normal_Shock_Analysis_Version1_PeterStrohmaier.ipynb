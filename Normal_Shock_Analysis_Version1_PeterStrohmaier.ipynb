{
 "cells": [
  {
   "cell_type": "code",
   "execution_count": 3,
   "metadata": {},
   "outputs": [],
   "source": [
    "#Normal Shock Analysis\n",
    "# Peter Strohmaier 9/4/19\n",
    "# HALE Rocket Team\n",
    "\n",
    "#The objective is to determine at what area the standing normal shock is positioned at\n",
    "import math\n",
    "\n",
    "def poundpersec_to_kilogrampersec(i):\n",
    "    return i * 0.453592\n",
    "def pound_to_kilogram(i):\n",
    "    return i * 0.453592\n",
    "def poundforce_to_newton(i):\n",
    "    return i * 4.44822\n",
    "def inch_to_meter(i):\n",
    "    return i * 0.0254\n",
    "def psi_to_Pa(i):\n",
    "    return i * 6894.76\n",
    "def metersquare_to_inchsquare(i):\n",
    "    return i * 1550\n",
    "\n",
    "#Known Values\n",
    "mdot = poundpersec_to_kilogrampersec(7.72) #kg/s\n",
    "m_full = pound_to_kilogram(150) #kg\n",
    "g0 = 9.81 #m/s^2\n",
    "gc = 1\n",
    "Mai = 0\n",
    "Mat = 1\n",
    "Pcimp = 350  #psi\n",
    "Pc = psi_to_Pa(Pcimp)\n",
    "Pe = 101325 #Pa\n",
    "k = 1.228\n",
    "Ta = 3600  #K\n",
    "Rbar = 8314 #J/K-mol\n",
    "R = 389.4145 #J/kgK\n",
    "\n",
    "\n",
    "#Isentropic Nozzle Calculations \n",
    "#taken from: Isentropic_Calculations_Version1_PeterStrohmaier.ipynb\n",
    "\n",
    "#Stagnation Point Computations\n",
    "Pt = Pc*((1+((k-1)/2)*(Mai**2))**(k/(k-1)))    #Equation 4.21 Fundamentals of Gas Dynamics (FGD)\n",
    "Tt = Ta*(1+((k-1)/2)*(Mai**2))                 #Equation 4.18 FGD\n",
    "PresRat = Pe/Pt\n",
    "\n",
    "#Computing Area of Throat\n",
    "rt1 = math.sqrt((2/(k+1))**((k+1)/(k-1)))      #Equation 3-24 Rocket Propulsion Elements (RPE)\n",
    "rt2 = math.sqrt(k*R*Ta)\n",
    "At = mdot/(Pc*k*(rt1/rt2))\n",
    "Atimp = metersquare_to_inchsquare(At)\n",
    "Dt = 2*math.sqrt(Atimp/math.pi)\n",
    "\n",
    "#Exit Condition Calculations\n",
    "Mae = (math.sqrt(2)*math.sqrt(Pt*((Pe/Pt)**(1/k))-Pe))/(math.sqrt((k*Pe)-Pe))    #Equation 5.4 FGD\n",
    "Ae = (At/Mae)*(((1+((k-1)/2)*(Mae**2))/((k+1)/2))**((k+1)/(2*(k-1))))            #Equation 5.37 FGD\n",
    "exp_sealevel = Ae/At\n",
    "Te = Tt/(1+((k-1)/2)*(Mae**2))\n",
    "TempRat = Te/Tt\n",
    "Aeimp = metersquare_to_inchsquare(Ae)\n",
    "De = 2*math.sqrt(Aeimp/math.pi)\n",
    "\n",
    "#Sonic Velocity\n",
    "a = math.sqrt(k*gc*R*Ta) \n",
    "\n"
   ]
  },
  {
   "cell_type": "code",
   "execution_count": 4,
   "metadata": {},
   "outputs": [
    {
     "name": "stdout",
     "output_type": "stream",
     "text": [
      "Exit Mach: 4.426030119468489\n",
      "Second Critical Exit Area: 0.10826952389751747 meter\n",
      "Second Critical Expansion Ratio: 41.207210340991786\n"
     ]
    }
   ],
   "source": [
    "#Shock Analysis\n",
    "\n",
    "A5 = Ae\n",
    "P5 = Pe\n",
    "Mdownstream = math.sqrt(((Mae**2)+(2/(k-1)))/((((2*k)/(k-1))*(Mae**2))-1))\n",
    "Pt5 = P5*((1+(((k-1)/2)*(Mdownstream**2))**(k/(k-1))))\n",
    "          \n",
    "Total_Press_Ratio = (Pt5*P5)/(P5*Pt)\n",
    "\n",
    "Mach_prior = 2\n",
    "for i in range(100):   \n",
    "    Mach_prior = math.sqrt(  (((k-1)/(k+1))+ ((Total_Press_Ratio**(1-k))\\\n",
    "    /(((((k+1)/2)*(Mach_prior**2))/(1+((k-1)/2)*(Mach_prior**2)))**((k*(1-k))/(k-1)))))\\\n",
    "    * ((k+1)/(2*k)))\n",
    "\n",
    "Exit_area = (At/Mach_prior)*(((1+((k-1)/2)*(Mach_prior**2))/((k+1)/2))**((k+1)/(2*(k-1)))) \n",
    "Max_usable_expansion_ratio = Exit_area/At\n",
    "print('Exit Mach: ' + str(Mach_prior))\n",
    "print('Second Critical Exit Area: ' +  str(Exit_area) + ' meter')\n",
    "print('Second Critical Expansion Ratio: ' + str(Max_usable_expansion_ratio))"
   ]
  }
 ],
 "metadata": {
  "kernelspec": {
   "display_name": "Python 3",
   "language": "python",
   "name": "python3"
  },
  "language_info": {
   "codemirror_mode": {
    "name": "ipython",
    "version": 3
   },
   "file_extension": ".py",
   "mimetype": "text/x-python",
   "name": "python",
   "nbconvert_exporter": "python",
   "pygments_lexer": "ipython3",
   "version": "3.6.5"
  }
 },
 "nbformat": 4,
 "nbformat_minor": 2
}
