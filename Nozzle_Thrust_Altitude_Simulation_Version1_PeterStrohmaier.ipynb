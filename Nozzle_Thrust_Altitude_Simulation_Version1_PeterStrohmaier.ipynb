{
 "cells": [
  {
   "cell_type": "code",
   "execution_count": 1,
   "metadata": {},
   "outputs": [],
   "source": [
    "#Nozzle Thrust and Altitude Simulation\n",
    "# Peter Strohmaier 9/1/19\n",
    "# HALE Rocket Team\n",
    "\n",
    "\n",
    "import numpy as np\n",
    "import matplotlib.pyplot as plt\n",
    "import math\n",
    "\n",
    "#Conversions\n",
    "def poundpersec_to_kilogrampersec(i):\n",
    "    return i * 0.453592\n",
    "def pound_to_kilogram(i):\n",
    "    return i * 0.453592\n",
    "def poundforce_to_newton(i):\n",
    "    return i * 4.44822\n",
    "def inch_to_meter(i):\n",
    "    return i * 0.0254\n",
    "\n",
    "#Defining Arrays and Start Points\n",
    "t = 0\n",
    "Accrocket = 0 #Acceleration of Rocket\n",
    "AccVec = np.array([])\n",
    "Vrocket = 0 #Velocity of Rocket, m/s\n",
    "VelocityVec = np.array([])\n",
    "Altitude = 0 #Altitude, m\n",
    "AltitudeVec = np.array([])\n",
    "Max_Altitudes = np.array([])\n",
    "Max_Acc = np.array([])\n",
    "Max_Velocity = np.array([])\n",
    "dt = 0.01\n",
    "\n",
    "\n",
    "#Known Values\n",
    "expansion_ratio = np.linspace(1.0, 40.0, num = 40)\n",
    "mdot = poundpersec_to_kilogrampersec(7.72) #kg/s\n",
    "m_full = pound_to_kilogram(150) #kg\n",
    "Cd = 2\n",
    "Arocket = math.pi*((inch_to_meter(6)/2)**2) #External Cross-Sectional Area, m^2\n",
    "g = 9.81 #m/s^2\n"
   ]
  },
  {
   "cell_type": "code",
   "execution_count": 2,
   "metadata": {},
   "outputs": [],
   "source": [
    "#Density as a Function of Altitude\n",
    "def air_density(i):\n",
    "    altitude = np.array([0,1000,3000,5000,10000,25000,50000,75000,100000,\\\n",
    "                     130000,160000,200000,300000,400000,600000,1000000])\n",
    "    density = np.array([1.2250,1.1117,9.0912*(10**-1),7.6312*(10**-1),4.1351*(10**-1),\\\n",
    "                   4.0084*(10**-2),1.0269*(10**-3),3.4861*(10**-5),5.604*(10**-7),\\\n",
    "                   8.152*(10**-9),1.233*(10**-9),2.541*(10**-10),1.916*(10**-11),\\\n",
    "                   2.803*(10**-12),2.137*(10**-13),3.561*(10**-15)])\n",
    "    return np.interp(i,altitude,density) #kg/m^3\n",
    "\n",
    "#Ambient Pressure as a Function of Altitude\n",
    "def air_pressure(i):\n",
    "    altitude = np.array([0,1000,3000,5000,10000,25000,50000,75000,100000,\\\n",
    "                     130000,160000,200000,300000,400000,600000,1000000])\n",
    "    pressure_ratio = np.array([1,8.8700*(10**-1),6.6919*(10**-1),5.3313*(10**-1),\\\n",
    "                              2.6151*(10**-1),2.5158*(10**-2),7.8735*(10**-4),2.0408*(10**-5),\\\n",
    "                              3.1593*(10**-7),1.2341*(10**-8),2.9997*(10**-9),8.3628*(10**-10),\\\n",
    "                              8.6557*(10**-11),1.4328*(10**-11),8.1056*(10**-13),7.4155*(10**-14)])\n",
    "    x = np.interp(i,altitude,pressure_ratio)\n",
    "    return x * (101325) #Pa\n",
    "\n"
   ]
  },
  {
   "cell_type": "code",
   "execution_count": 3,
   "metadata": {},
   "outputs": [],
   "source": [
    "#Function for Thrust Force\n",
    "def Fthrust(i):\n",
    "    return poundforce_to_newton(i) #N\n"
   ]
  },
  {
   "cell_type": "code",
   "execution_count": 4,
   "metadata": {},
   "outputs": [],
   "source": [
    "#Function for Drag Force\n",
    "def Fdrag(Vrocket,Altitude):\n",
    "    return (Cd*(Vrocket**2)*air_density(Altitude)*Arocket)/2 #N\n",
    "    "
   ]
  },
  {
   "cell_type": "code",
   "execution_count": 5,
   "metadata": {},
   "outputs": [
    {
     "ename": "TypeError",
     "evalue": "object of type 'int' has no len()",
     "output_type": "error",
     "traceback": [
      "\u001b[1;31m---------------------------------------------------------------------------\u001b[0m",
      "\u001b[1;31mTypeError\u001b[0m                                 Traceback (most recent call last)",
      "\u001b[1;32m<ipython-input-5-cc9298735c9d>\u001b[0m in \u001b[0;36m<module>\u001b[1;34m()\u001b[0m\n\u001b[0;32m     22\u001b[0m         \u001b[0mAltitude\u001b[0m \u001b[1;33m=\u001b[0m \u001b[0mAltitude\u001b[0m \u001b[1;33m+\u001b[0m \u001b[0mVrocket\u001b[0m\u001b[1;33m*\u001b[0m\u001b[0mdt\u001b[0m\u001b[1;33m\u001b[0m\u001b[0m\n\u001b[0;32m     23\u001b[0m \u001b[1;33m\u001b[0m\u001b[0m\n\u001b[1;32m---> 24\u001b[1;33m         \u001b[1;32mif\u001b[0m \u001b[0mlen\u001b[0m\u001b[1;33m(\u001b[0m\u001b[0mAccVec\u001b[0m\u001b[1;33m)\u001b[0m \u001b[1;33m<=\u001b[0m \u001b[1;36m2000\u001b[0m\u001b[1;33m:\u001b[0m\u001b[1;33m\u001b[0m\u001b[0m\n\u001b[0m\u001b[0;32m     25\u001b[0m             \u001b[0mAccVec\u001b[0m \u001b[1;33m=\u001b[0m \u001b[0mnp\u001b[0m\u001b[1;33m.\u001b[0m\u001b[0mappend\u001b[0m\u001b[1;33m(\u001b[0m\u001b[0mAccVec\u001b[0m\u001b[1;33m,\u001b[0m\u001b[0mAccrocket\u001b[0m\u001b[1;33m)\u001b[0m\u001b[1;33m\u001b[0m\u001b[0m\n\u001b[0;32m     26\u001b[0m             \u001b[0mVelocityVec\u001b[0m \u001b[1;33m=\u001b[0m \u001b[0mnp\u001b[0m\u001b[1;33m.\u001b[0m\u001b[0mappend\u001b[0m\u001b[1;33m(\u001b[0m\u001b[0mVelocityVec\u001b[0m\u001b[1;33m,\u001b[0m\u001b[0mVrocket\u001b[0m\u001b[1;33m)\u001b[0m\u001b[1;33m\u001b[0m\u001b[0m\n",
      "\u001b[1;31mTypeError\u001b[0m: object of type 'int' has no len()"
     ]
    }
   ],
   "source": [
    "#Flight Performance Simulation\n",
    "\n",
    "#Primary Iteration Over Each Expansion Ratio\n",
    "for exp in np.nditer(expansion_ratio):\n",
    "    \n",
    "    #Seconday Iteration for each time step\n",
    "    for i in range(2001):\n",
    "        t = t + dt\n",
    "        \n",
    "        #Updating the Instantaneous Mass\n",
    "        if t < 5.5:\n",
    "            m_PropellantConsumed = mdot*t\n",
    "            m_inst = m_full - m_PropellantConsumed\n",
    "        else:\n",
    "            m_inst = m_full - m_PropellantConsumed\n",
    "        \n",
    "        Weight = m_inst*g\n",
    "        Fnet = Fthrust(2000) - Fdrag(Vrocket,Altitude) - Weight\n",
    "        \n",
    "        Accrocket = Fnet/m_inst\n",
    "        Vrocket = Vrocket + Accrocket*dt\n",
    "        Altitude = Altitude + Vrocket*dt\n",
    "        \n",
    "        if len(AccVec) <= 2000:\n",
    "            AccVec = np.append(AccVec,Accrocket)\n",
    "            VelocityVec = np.append(VelocityVec,Vrocket)\n",
    "            AltitudeVec = np.append(AltitudeVec,Altitude)\n",
    "\n",
    "        else:\n",
    "            AccVec = 0\n",
    "            VelocityVec = 0\n",
    "            AltitudeVec = 0\n",
    "        \n",
    "    #Record Max Altitude Reached at Each Expansion Ratio\n",
    "    Max_Acc = np.append(Max_Acc,max(AccVec))\n",
    "    Max_Velocity = np.append(Max_Velocity,max(VelocityVec))\n",
    "    Max_Altitudes = np.append(Max_Altitudes,max(AltitudeVec))\n",
    "    \n",
    "\n",
    "    ######## current Issue (Lines 24-32) #########\n",
    "    #I need to reset the length for my storage arrays after each complete cycle over \n",
    "    #one expansion ratio, however by using a len function to see if the length of stored\n",
    "    #variables is less than or equal to the iterations through, an error is returned because the \n",
    "    #array initially begins with no length.\n",
    "        "
   ]
  },
  {
   "cell_type": "code",
   "execution_count": null,
   "metadata": {},
   "outputs": [],
   "source": [
    "#Plotting Expansion Ratio vs Altitude\n",
    "plt.plot(expansion_ratio,Max_Altitudes)\n"
   ]
  }
 ],
 "metadata": {
  "kernelspec": {
   "display_name": "Python 3",
   "language": "python",
   "name": "python3"
  },
  "language_info": {
   "codemirror_mode": {
    "name": "ipython",
    "version": 3
   },
   "file_extension": ".py",
   "mimetype": "text/x-python",
   "name": "python",
   "nbconvert_exporter": "python",
   "pygments_lexer": "ipython3",
   "version": "3.6.5"
  }
 },
 "nbformat": 4,
 "nbformat_minor": 2
}
