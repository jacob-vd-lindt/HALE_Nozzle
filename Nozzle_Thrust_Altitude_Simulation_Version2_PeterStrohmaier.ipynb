{
 "cells": [
  {
   "cell_type": "code",
   "execution_count": 1,
   "metadata": {},
   "outputs": [],
   "source": [
    "#Nozzle Thrust and Altitude Simulation\n",
    "# Peter Strohmaier 9/1/19\n",
    "# HALE Rocket Team\n",
    "\n",
    "\n",
    "import numpy as np\n",
    "import matplotlib.pyplot as plt\n",
    "import math\n",
    "% matplotlib notebook\n",
    "\n",
    "#Conversions\n",
    "def poundpersec_to_kilogrampersec(i):\n",
    "    return i * 0.453592\n",
    "def pound_to_kilogram(i):\n",
    "    return i * 0.453592\n",
    "def poundforce_to_newton(i):\n",
    "    return i * 4.44822\n",
    "def inch_to_meter(i):\n",
    "    return i * 0.0254\n",
    "def metersquare_to_inchsquare(i):\n",
    "    return i * 1550\n",
    "def poundpersec_to_kilogrampersec(i):\n",
    "    return i * 0.453592\n",
    "def psi_to_Pa(i):\n",
    "    return i * 6894.76\n",
    "\n",
    "#Defining Arrays and Start Points\n",
    "t = 0\n",
    "Accrocket = 0 #Acceleration of Rocket\n",
    "Vrocket = 0 #Velocity of Rocket, m/s\n",
    "Altitude = 0 #Altitude, m\n",
    "Max_Altitude = 0\n",
    "dt = 0.01\n",
    "Max_Altitude_All = np.array([])\n",
    "Acc_mat = np.array([])\n",
    "Velocity_mat = np.array([])\n",
    "Altitude_mat = np.array([])\n",
    "TimeCount = np.array([])\n",
    "\n",
    "#Placeholder to check max net force\n",
    "Fnet_mat = np.array([])\n",
    "\n",
    "#Known Values\n",
    "expansion_ratio = np.linspace(1.0, 40.0, num = 40)\n",
    "mdot = poundpersec_to_kilogrampersec(7.72) #kg/s\n",
    "m_full = pound_to_kilogram(150) #kg\n",
    "Cd = 2\n",
    "Arocket = math.pi*((inch_to_meter(6)/2)**2) #External Cross-Sectional Area, m^2\n",
    "g0 = 9.81 #m/s^2\n",
    "gc = 1\n",
    "Mai = 0\n",
    "Mat = 1\n",
    "Pcimp = 350  #psi\n",
    "Pc = psi_to_Pa(Pcimp)\n",
    "Pe = 101325 #Pa\n",
    "k = 1.228\n",
    "Ta = 3600  #K\n",
    "Rbar = 8314 #J/K-mol\n",
    "R = 389.4145 #J/kgK"
   ]
  },
  {
   "cell_type": "code",
   "execution_count": 2,
   "metadata": {},
   "outputs": [],
   "source": [
    "#Isentropic Nozzle Calculations \n",
    "#taken from: Isentropic_Calculations_Version1_PeterStrohmaier.ipynb\n",
    "\n",
    "#Stagnation Point Computations\n",
    "Pt = Pc*((1+((k-1)/2)*(Mai**2))**(k/(k-1)))    #Equation 4.21 Fundamentals of Gas Dynamics (FGD)\n",
    "Tt = Ta*(1+((k-1)/2)*(Mai**2))                 #Equation 4.18 FGD\n",
    "PresRat = Pe/Pt\n",
    "\n",
    "#Computing Area of Throat\n",
    "rt1 = math.sqrt((2/(k+1))**((k+1)/(k-1)))      #Equation 3-24 Rocket Propulsion Elements (RPE)\n",
    "rt2 = math.sqrt(k*R*Ta)\n",
    "At = mdot/(Pc*k*(rt1/rt2))\n",
    "Atimp = metersquare_to_inchsquare(At)\n",
    "Dt = 2*math.sqrt(Atimp/math.pi)\n",
    "\n",
    "#Exit Condition Calculations\n",
    "Mae = (math.sqrt(2)*math.sqrt(Pt*((Pe/Pt)**(1/k))-Pe))/(math.sqrt((k*Pe)-Pe))    #Equation 5.4 FGD\n",
    "Ae = (At/Mae)*(((1+((k-1)/2)*(Mae**2))/((k+1)/2))**((k+1)/(2*(k-1))))            #Equation 5.37 FGD\n",
    "exp_sealevel = Ae/At\n",
    "Te = Tt/(1+((k-1)/2)*(Mae**2))\n",
    "TempRat = Te/Tt\n",
    "Aeimp = metersquare_to_inchsquare(Ae)\n",
    "De = 2*math.sqrt(Aeimp/math.pi)\n",
    "\n",
    "#Sonic Velocity\n",
    "a = math.sqrt(k*gc*R*Ta) "
   ]
  },
  {
   "cell_type": "code",
   "execution_count": 3,
   "metadata": {},
   "outputs": [],
   "source": [
    "#Density as a Function of Altitude\n",
    "def air_density(i):\n",
    "    altitude = np.array([0,1000,3000,5000,10000,25000,50000,75000,100000,\\\n",
    "                     130000,160000,200000,300000,400000,600000,1000000])\n",
    "    density = np.array([1.2250,1.1117,9.0912*(10**-1),7.6312*(10**-1),4.1351*(10**-1),\\\n",
    "                   4.0084*(10**-2),1.0269*(10**-3),3.4861*(10**-5),5.604*(10**-7),\\\n",
    "                   8.152*(10**-9),1.233*(10**-9),2.541*(10**-10),1.916*(10**-11),\\\n",
    "                   2.803*(10**-12),2.137*(10**-13),3.561*(10**-15)])\n",
    "    return np.interp(i,altitude,density) #kg/m^3\n",
    "\n",
    "#Ambient Pressure as a Function of Altitude\n",
    "def air_pressure(i):\n",
    "    altitude = np.array([0,1000,3000,5000,10000,25000,50000,75000,100000,\\\n",
    "                     130000,160000,200000,300000,400000,600000,1000000])\n",
    "    pressure_ratio = np.array([1,8.8700*(10**-1),6.6919*(10**-1),5.3313*(10**-1),\\\n",
    "                              2.6151*(10**-1),2.5158*(10**-2),7.8735*(10**-4),2.0408*(10**-5),\\\n",
    "                              3.1593*(10**-7),1.2341*(10**-8),2.9997*(10**-9),8.3628*(10**-10),\\\n",
    "                              8.6557*(10**-11),1.4328*(10**-11),8.1056*(10**-13),7.4155*(10**-14)])\n",
    "    x = np.interp(i,altitude,pressure_ratio)\n",
    "    return x * Pe #Pa\n",
    "\n"
   ]
  },
  {
   "cell_type": "code",
   "execution_count": 4,
   "metadata": {},
   "outputs": [],
   "source": [
    "#Function for Thrust Force\n",
    "def Fthrust(exp,Altitude):\n",
    "    A_exit = exp * At\n",
    "    #Guess for Mach number\n",
    "    Mach_exit = 2\n",
    "    for i in range(100):\n",
    "        Mach_exit = (1/exp)*(((1+((k-1)/2)*(Mach_exit**2))/((k+1)/2))**((k+1)/(2*(k-1))))\n",
    "\n",
    "    P_exit = Pt/((1+(((k-1)/2)*(Mach_exit**2)))**(k/(k-1)))\n",
    "    V_exit = Mach_exit * a\n",
    "    Fthrust = ((mdot*V_exit)/gc) + A_exit*(P_exit-air_pressure(Altitude))\n",
    "    return Fthrust\n",
    " "
   ]
  },
  {
   "cell_type": "code",
   "execution_count": 5,
   "metadata": {},
   "outputs": [],
   "source": [
    "#Function for Drag Force\n",
    "def Fdrag(Vrocket,Altitude):\n",
    "    return (Cd*(Vrocket**2)*air_density(Altitude)*Arocket)/2 #N\n",
    "    "
   ]
  },
  {
   "cell_type": "code",
   "execution_count": 6,
   "metadata": {},
   "outputs": [],
   "source": [
    "#Flight Performance Simulation\n",
    "\n",
    "#Primary Iteration Over Each Expansion Ratio\n",
    "#for exp in np.nditer(expansion_ratio):\n",
    "  #  #Seconday Iteration for each time step\n",
    " #   for i in range(2000):\n",
    "   #     t = t + dt\n",
    "    #    #Updating the Instantaneous Mass\n",
    "     #   if t < 5.21:\n",
    "      #      m_PropellantConsumed = mdot*t\n",
    "       #     m_inst = m_full - m_PropellantConsumed\n",
    "        #    Weight = m_inst*g0\n",
    "         #   Fnet = Fthrust(exp,Altitude) - Fdrag(Vrocket,Altitude) - Weight\n",
    "      #  else:\n",
    "       #     Weight = m_inst*g0\n",
    "        #    if Vrocket < 0:\n",
    "         #       Fnet =  Fdrag(Vrocket,Altitude) - Weight\n",
    "          #  else:\n",
    "           #     Fnet =  -Fdrag(Vrocket,Altitude) - Weight\n",
    "        \n",
    "       # Accrocket = Fnet/m_inst\n",
    "       # Vrocket = Vrocket + Accrocket*dt\n",
    "       # Altitude = Altitude + Vrocket*dt\n",
    "        \n",
    "       # if Altitude > Max_Altitude:\n",
    "        #    Max_Altitude = Altitude\n",
    "       # else: \n",
    "        #    break \n",
    "    \n",
    "   # Max_Altitude_All = np.append(Max_Altitude_All,Max_Altitude)   \n",
    "   # t = 0     "
   ]
  },
  {
   "cell_type": "code",
   "execution_count": 7,
   "metadata": {},
   "outputs": [
    {
     "name": "stdout",
     "output_type": "stream",
     "text": [
      "Maximum Net Force: 120885.21185718698\n",
      "Maximum Altitude Reached: 111087.50176575866\n"
     ]
    },
    {
     "data": {
      "text/plain": [
       "[<matplotlib.lines.Line2D at 0x1ea0fb5c400>]"
      ]
     },
     "execution_count": 7,
     "metadata": {},
     "output_type": "execute_result"
    },
    {
     "data": {
      "image/png": "[encoded data removed]",
      "text/plain": [
       "<Figure size 432x288 with 1 Axes>"
      ]
     },
     "metadata": {},
     "output_type": "display_data"
    }
   ],
   "source": [
    "#Final Flight Simulation\n",
    "\n",
    "exp = 20\n",
    "for i in range(30000):\n",
    "        t = t + dt\n",
    "        #Updating the Instantaneous Mass\n",
    "        if t < 5.21:\n",
    "            m_PropellantConsumed = t*mdot\n",
    "            m_inst = m_full - m_PropellantConsumed\n",
    "            Weight = m_inst*g0\n",
    "            Fnet = Fthrust(exp,Altitude) - Fdrag(Vrocket,Altitude) - Weight\n",
    "            Fnet_mat = np.append(Fnet_mat,Fnet)\n",
    "        else:\n",
    "            Weight = m_inst*g0\n",
    "            if Vrocket < 0:\n",
    "                Fnet =  Fdrag(Vrocket,Altitude) - Weight\n",
    "                Fnet_mat = np.append(Fnet_mat,Fnet)\n",
    "            else:\n",
    "                Fnet = -Fdrag(Vrocket,Altitude) - Weight\n",
    "                Fnet_mat = np.append(Fnet_mat,Fnet)\n",
    "        \n",
    "        Accrocket = Fnet/m_inst\n",
    "        Vrocket = Vrocket + Accrocket*dt\n",
    "        Altitude = Altitude + Vrocket*dt\n",
    "        \n",
    "        Acc_mat = np.append(Acc_mat,Accrocket)\n",
    "        Velocity_mat = np.append(Velocity_mat,Vrocket)\n",
    "        Altitude_mat = np.append(Altitude_mat,Altitude)\n",
    "        TimeCount = np.append(TimeCount,t)\n",
    "        \n",
    "F = max(Fnet_mat)\n",
    "print('Maximum Net Force: ' + str(F))\n",
    "print('Maximum Altitude Reached: ' + str(max(Altitude_mat)))\n",
    "plt.plot(TimeCount,Altitude_mat)\n",
    "\n",
    "\n",
    "\n",
    "\n",
    "#################################################\n",
    "#Currently, I believe there is an error in the force function causing the net force to be\n",
    "#much higher than it should be. This is likely causing the altitude to be much higher than\n",
    "#it should be as well.\n"
   ]
  },
  {
   "cell_type": "code",
   "execution_count": 8,
   "metadata": {},
   "outputs": [],
   "source": [
    "#Plotting Expansion Ratio vs Altitude\n",
    "\n",
    "#plt.plot(expansion_ratio,Max_Altitude_All)\n",
    "\n"
   ]
  }
 ],
 "metadata": {
  "kernelspec": {
   "display_name": "Python 3",
   "language": "python",
   "name": "python3"
  },
  "language_info": {
   "codemirror_mode": {
    "name": "ipython",
    "version": 3
   },
   "file_extension": ".py",
   "mimetype": "text/x-python",
   "name": "python",
   "nbconvert_exporter": "python",
   "pygments_lexer": "ipython3",
   "version": "3.6.5"
  }
 },
 "nbformat": 4,
 "nbformat_minor": 2
}
